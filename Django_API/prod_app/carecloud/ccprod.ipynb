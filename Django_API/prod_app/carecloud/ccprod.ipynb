{
 "cells": [
  {
   "cell_type": "code",
   "execution_count": null,
   "metadata": {},
   "outputs": [],
   "source": [
    "# !pip install openpyxl"
   ]
  },
  {
   "cell_type": "code",
   "execution_count": null,
   "metadata": {},
   "outputs": [],
   "source": [
    "import pandas as pd"
   ]
  },
  {
   "cell_type": "code",
   "execution_count": null,
   "metadata": {},
   "outputs": [],
   "source": [
    "ddf = pd.read_excel(\"/home/dsmain/AaqilData/Productivity/Carecloud_Productivity/Productivity_Files/May-11-May-17-2024/CARECLOUD PRODUCTIVITY REPORT 2024-05-13 to 2024-05-18.xlsx\")"
   ]
  },
  {
   "cell_type": "code",
   "execution_count": null,
   "metadata": {},
   "outputs": [],
   "source": [
    "ddf"
   ]
  },
  {
   "cell_type": "code",
   "execution_count": null,
   "metadata": {},
   "outputs": [],
   "source": [
    "ddf = ddf.rename(columns = {'EMPLOYEE ID':'EMPLOYEEID','OLD RVU SCORE':'Old_RVU_Score',\n",
    "    'CALCULATED RVU SCORE':'Calculated_RVU_Score','TOTAL':'Total','PENDING':'Pending','PAID':'Paid',\n",
    "    'PREVIOUSLY PAID':'Previously_Paid', 'TOTAL REJECTIONS':'Total_Rejections','TOTAL DENIALS':'Total_Denials',\n",
    "    'CORRECT PAYMENTS':'Correct_Payments','INCORRECT PAYMENTS':'Incorrect_Payments',})\n",
    "\n",
    "ddf.drop(columns={'PRODUCTIVITY'}, inplace=True)\n",
    "\n",
    "ddf[['Old_RVU_Score','Calculated_RVU_Score','Total','Pending','Paid', 'Previously_Paid', 'Total_Rejections','Total_Denials', 'Correct_Payments', \n",
    "    'Incorrect_Payments']] = round(ddf[['Old_RVU_Score','Calculated_RVU_Score','Total','Pending','Paid', 'Previously_Paid', 'Total_Rejections','Total_Denials', 'Correct_Payments', \n",
    "    'Incorrect_Payments']],1)\n",
    "\n",
    "ddf['EMPLOYEEID'] = ddf['EMPLOYEEID'].apply(int)"
   ]
  },
  {
   "cell_type": "code",
   "execution_count": null,
   "metadata": {},
   "outputs": [],
   "source": [
    "ddf"
   ]
  },
  {
   "cell_type": "code",
   "execution_count": null,
   "metadata": {},
   "outputs": [],
   "source": []
  }
 ],
 "metadata": {
  "kernelspec": {
   "display_name": "Python 3",
   "language": "python",
   "name": "python3"
  },
  "language_info": {
   "codemirror_mode": {
    "name": "ipython",
    "version": 3
   },
   "file_extension": ".py",
   "mimetype": "text/x-python",
   "name": "python",
   "nbconvert_exporter": "python",
   "pygments_lexer": "ipython3",
   "version": "3.8.10"
  },
  "orig_nbformat": 4
 },
 "nbformat": 4,
 "nbformat_minor": 2
}
